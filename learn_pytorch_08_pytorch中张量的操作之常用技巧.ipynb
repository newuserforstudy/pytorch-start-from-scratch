{
 "cells": [
  {
   "cell_type": "markdown",
   "metadata": {},
   "source": [
    "### 1 删除维度为1的维度：torch.squeeze()"
   ]
  },
  {
   "cell_type": "code",
   "execution_count": 11,
   "metadata": {},
   "outputs": [],
   "source": [
    "import torch"
   ]
  },
  {
   "cell_type": "code",
   "execution_count": 18,
   "metadata": {},
   "outputs": [],
   "source": [
    "a = torch.rand(3,1,1,6)"
   ]
  },
  {
   "cell_type": "code",
   "execution_count": 19,
   "metadata": {},
   "outputs": [
    {
     "data": {
      "text/plain": [
       "torch.Size([3, 1, 1, 6])"
      ]
     },
     "execution_count": 19,
     "metadata": {},
     "output_type": "execute_result"
    }
   ],
   "source": [
    "a.size()"
   ]
  },
  {
   "cell_type": "code",
   "execution_count": 20,
   "metadata": {},
   "outputs": [
    {
     "data": {
      "text/plain": [
       "torch.Size([3, 6])"
      ]
     },
     "execution_count": 20,
     "metadata": {},
     "output_type": "execute_result"
    }
   ],
   "source": [
    "b = torch.squeeze(a)\n",
    "b.size()"
   ]
  },
  {
   "cell_type": "code",
   "execution_count": 21,
   "metadata": {},
   "outputs": [
    {
     "data": {
      "text/plain": [
       "tensor([[0.7602, 0.4312, 0.1838, 0.3196, 0.1801, 0.7492],\n",
       "        [0.3767, 0.7051, 0.2068, 0.8815, 0.3442, 0.2890],\n",
       "        [0.8634, 0.4648, 0.5061, 0.5898, 0.8630, 0.9634]])"
      ]
     },
     "execution_count": 21,
     "metadata": {},
     "output_type": "execute_result"
    }
   ],
   "source": [
    "b"
   ]
  },
  {
   "cell_type": "markdown",
   "metadata": {},
   "source": [
    "### 2 在指定位置插入维度为1的维度:torch.unsqueeze()"
   ]
  },
  {
   "cell_type": "code",
   "execution_count": 22,
   "metadata": {},
   "outputs": [],
   "source": [
    "x=torch.rand(3,3)"
   ]
  },
  {
   "cell_type": "code",
   "execution_count": 25,
   "metadata": {},
   "outputs": [
    {
     "data": {
      "text/plain": [
       "torch.Size([3, 3])"
      ]
     },
     "execution_count": 25,
     "metadata": {},
     "output_type": "execute_result"
    }
   ],
   "source": [
    "x.size()"
   ]
  },
  {
   "cell_type": "code",
   "execution_count": 30,
   "metadata": {},
   "outputs": [],
   "source": [
    "y = torch.unsqueeze(x,2)"
   ]
  },
  {
   "cell_type": "code",
   "execution_count": 31,
   "metadata": {},
   "outputs": [
    {
     "data": {
      "text/plain": [
       "torch.Size([3, 3, 1])"
      ]
     },
     "execution_count": 31,
     "metadata": {},
     "output_type": "execute_result"
    }
   ],
   "source": [
    "y.size()"
   ]
  },
  {
   "cell_type": "markdown",
   "metadata": {},
   "source": [
    "### 3 在指定维度上对张量进行拼接操作 :torch.cat"
   ]
  },
  {
   "cell_type": "code",
   "execution_count": 44,
   "metadata": {},
   "outputs": [],
   "source": [
    "x1 = torch.rand(3,3)\n",
    "x2 = torch.rand(3,3) \n",
    "\n",
    "x = torch.cat((x1,x2),1)\n",
    "y = torch.cat((x1,x2),0)"
   ]
  },
  {
   "cell_type": "code",
   "execution_count": 45,
   "metadata": {},
   "outputs": [
    {
     "data": {
      "text/plain": [
       "tensor([[0.4465, 0.6883, 0.6064],\n",
       "        [0.6696, 0.1908, 0.4945],\n",
       "        [0.8652, 0.4769, 0.7449]])"
      ]
     },
     "execution_count": 45,
     "metadata": {},
     "output_type": "execute_result"
    }
   ],
   "source": [
    "x1"
   ]
  },
  {
   "cell_type": "code",
   "execution_count": 46,
   "metadata": {},
   "outputs": [
    {
     "data": {
      "text/plain": [
       "tensor([[0.4501, 0.1678, 0.3242],\n",
       "        [0.9911, 0.9107, 0.3461],\n",
       "        [0.4288, 0.2735, 0.8026]])"
      ]
     },
     "execution_count": 46,
     "metadata": {},
     "output_type": "execute_result"
    }
   ],
   "source": [
    "x2"
   ]
  },
  {
   "cell_type": "code",
   "execution_count": 47,
   "metadata": {},
   "outputs": [
    {
     "data": {
      "text/plain": [
       "tensor([[0.4465, 0.6883, 0.6064, 0.4501, 0.1678, 0.3242],\n",
       "        [0.6696, 0.1908, 0.4945, 0.9911, 0.9107, 0.3461],\n",
       "        [0.8652, 0.4769, 0.7449, 0.4288, 0.2735, 0.8026]])"
      ]
     },
     "execution_count": 47,
     "metadata": {},
     "output_type": "execute_result"
    }
   ],
   "source": [
    "x"
   ]
  },
  {
   "cell_type": "code",
   "execution_count": 48,
   "metadata": {},
   "outputs": [
    {
     "data": {
      "text/plain": [
       "tensor([[0.4465, 0.6883, 0.6064],\n",
       "        [0.6696, 0.1908, 0.4945],\n",
       "        [0.8652, 0.4769, 0.7449],\n",
       "        [0.4501, 0.1678, 0.3242],\n",
       "        [0.9911, 0.9107, 0.3461],\n",
       "        [0.4288, 0.2735, 0.8026]])"
      ]
     },
     "execution_count": 48,
     "metadata": {},
     "output_type": "execute_result"
    }
   ],
   "source": [
    "y"
   ]
  },
  {
   "cell_type": "markdown",
   "metadata": {},
   "source": [
    "### 4 对张量进行变形操作 "
   ]
  },
  {
   "cell_type": "code",
   "execution_count": 49,
   "metadata": {},
   "outputs": [],
   "source": [
    "x = torch.rand(24)"
   ]
  },
  {
   "cell_type": "code",
   "execution_count": 50,
   "metadata": {},
   "outputs": [
    {
     "data": {
      "text/plain": [
       "tensor([[0.9242, 0.9486, 0.0778, 0.3955, 0.4541, 0.9230],\n",
       "        [0.4422, 0.5327, 0.0753, 0.1761, 0.4588, 0.4054],\n",
       "        [0.5887, 0.3625, 0.2744, 0.1909, 0.0919, 0.3794],\n",
       "        [0.8572, 0.3379, 0.7439, 0.0581, 0.9429, 0.0718]])"
      ]
     },
     "execution_count": 50,
     "metadata": {},
     "output_type": "execute_result"
    }
   ],
   "source": [
    "x.view(4,6)"
   ]
  },
  {
   "cell_type": "markdown",
   "metadata": {},
   "source": [
    "x.view(2,3,4)"
   ]
  },
  {
   "cell_type": "markdown",
   "metadata": {},
   "source": [
    "### 5 增加新的维度进行堆叠:torch.stack"
   ]
  },
  {
   "cell_type": "code",
   "execution_count": 86,
   "metadata": {},
   "outputs": [],
   "source": [
    "x1= torch.rand(3,3)\n",
    "x2= torch.rand(3,3)"
   ]
  },
  {
   "cell_type": "code",
   "execution_count": 87,
   "metadata": {},
   "outputs": [],
   "source": [
    "x = torch.stack((x1,x2),0)\n",
    "y = torch.stack((x1,x2),1)\n",
    "z = torch.stack((x1,x2),2)"
   ]
  },
  {
   "cell_type": "code",
   "execution_count": 88,
   "metadata": {},
   "outputs": [
    {
     "data": {
      "text/plain": [
       "torch.Size([3, 3])"
      ]
     },
     "execution_count": 88,
     "metadata": {},
     "output_type": "execute_result"
    }
   ],
   "source": [
    "x1.size()"
   ]
  },
  {
   "cell_type": "code",
   "execution_count": 89,
   "metadata": {},
   "outputs": [
    {
     "data": {
      "text/plain": [
       "torch.Size([3, 3])"
      ]
     },
     "execution_count": 89,
     "metadata": {},
     "output_type": "execute_result"
    }
   ],
   "source": [
    "x2.size()"
   ]
  },
  {
   "cell_type": "code",
   "execution_count": 90,
   "metadata": {},
   "outputs": [
    {
     "data": {
      "text/plain": [
       "torch.Size([2, 3, 3])"
      ]
     },
     "execution_count": 90,
     "metadata": {},
     "output_type": "execute_result"
    }
   ],
   "source": [
    "x.size()"
   ]
  },
  {
   "cell_type": "code",
   "execution_count": 91,
   "metadata": {},
   "outputs": [
    {
     "data": {
      "text/plain": [
       "torch.Size([3, 2, 3])"
      ]
     },
     "execution_count": 91,
     "metadata": {},
     "output_type": "execute_result"
    }
   ],
   "source": [
    "y.size()"
   ]
  },
  {
   "cell_type": "code",
   "execution_count": 92,
   "metadata": {},
   "outputs": [
    {
     "data": {
      "text/plain": [
       "torch.Size([3, 3, 2])"
      ]
     },
     "execution_count": 92,
     "metadata": {},
     "output_type": "execute_result"
    }
   ],
   "source": [
    "z.size()"
   ]
  },
  {
   "cell_type": "markdown",
   "metadata": {},
   "source": [
    "### 6 交换维度"
   ]
  },
  {
   "cell_type": "code",
   "execution_count": 97,
   "metadata": {},
   "outputs": [
    {
     "data": {
      "text/plain": [
       "tensor([[[[0.9324, 0.2136],\n",
       "          [0.8151, 0.9263],\n",
       "          [0.0643, 0.4161],\n",
       "          [0.6478, 0.6522]],\n",
       "\n",
       "         [[0.1823, 0.1293],\n",
       "          [0.1496, 0.4427],\n",
       "          [0.5730, 0.1683],\n",
       "          [0.1251, 0.6011]],\n",
       "\n",
       "         [[0.2152, 0.3298],\n",
       "          [0.8383, 0.4119],\n",
       "          [0.5483, 0.1983],\n",
       "          [0.7122, 0.3095]]],\n",
       "\n",
       "\n",
       "        [[[0.4071, 0.7896],\n",
       "          [0.7533, 0.0877],\n",
       "          [0.9219, 0.2411],\n",
       "          [0.3678, 0.2430]],\n",
       "\n",
       "         [[0.4965, 0.3026],\n",
       "          [0.8523, 0.9061],\n",
       "          [0.6938, 0.0257],\n",
       "          [0.4804, 0.1263]],\n",
       "\n",
       "         [[0.8641, 0.0049],\n",
       "          [0.5663, 0.6971],\n",
       "          [0.8994, 0.2432],\n",
       "          [0.3777, 0.4181]]],\n",
       "\n",
       "\n",
       "        [[[0.8028, 0.5148],\n",
       "          [0.1527, 0.2548],\n",
       "          [0.7785, 0.6627],\n",
       "          [0.2134, 0.8163]],\n",
       "\n",
       "         [[0.7922, 0.0703],\n",
       "          [0.6822, 0.7359],\n",
       "          [0.4362, 0.2421],\n",
       "          [0.4697, 0.5187]],\n",
       "\n",
       "         [[0.6317, 0.9229],\n",
       "          [0.2919, 0.2319],\n",
       "          [0.5160, 0.7146],\n",
       "          [0.3768, 0.8212]]]])"
      ]
     },
     "execution_count": 97,
     "metadata": {},
     "output_type": "execute_result"
    }
   ],
   "source": [
    "x= torch.rand(3,3,4,2)\n",
    "x"
   ]
  },
  {
   "cell_type": "code",
   "execution_count": 98,
   "metadata": {},
   "outputs": [
    {
     "data": {
      "text/plain": [
       "tensor([[[[0.9324, 0.8151, 0.0643, 0.6478],\n",
       "          [0.2136, 0.9263, 0.4161, 0.6522]],\n",
       "\n",
       "         [[0.4071, 0.7533, 0.9219, 0.3678],\n",
       "          [0.7896, 0.0877, 0.2411, 0.2430]],\n",
       "\n",
       "         [[0.8028, 0.1527, 0.7785, 0.2134],\n",
       "          [0.5148, 0.2548, 0.6627, 0.8163]]],\n",
       "\n",
       "\n",
       "        [[[0.1823, 0.1496, 0.5730, 0.1251],\n",
       "          [0.1293, 0.4427, 0.1683, 0.6011]],\n",
       "\n",
       "         [[0.4965, 0.8523, 0.6938, 0.4804],\n",
       "          [0.3026, 0.9061, 0.0257, 0.1263]],\n",
       "\n",
       "         [[0.7922, 0.6822, 0.4362, 0.4697],\n",
       "          [0.0703, 0.7359, 0.2421, 0.5187]]],\n",
       "\n",
       "\n",
       "        [[[0.2152, 0.8383, 0.5483, 0.7122],\n",
       "          [0.3298, 0.4119, 0.1983, 0.3095]],\n",
       "\n",
       "         [[0.8641, 0.5663, 0.8994, 0.3777],\n",
       "          [0.0049, 0.6971, 0.2432, 0.4181]],\n",
       "\n",
       "         [[0.6317, 0.2919, 0.5160, 0.3768],\n",
       "          [0.9229, 0.2319, 0.7146, 0.8212]]]])"
      ]
     },
     "execution_count": 98,
     "metadata": {},
     "output_type": "execute_result"
    }
   ],
   "source": [
    "x.permute(1,0,3,2)"
   ]
  },
  {
   "cell_type": "code",
   "execution_count": null,
   "metadata": {},
   "outputs": [],
   "source": []
  }
 ],
 "metadata": {
  "kernelspec": {
   "display_name": "Python 3",
   "language": "python",
   "name": "python3"
  },
  "language_info": {
   "codemirror_mode": {
    "name": "ipython",
    "version": 3
   },
   "file_extension": ".py",
   "mimetype": "text/x-python",
   "name": "python",
   "nbconvert_exporter": "python",
   "pygments_lexer": "ipython3",
   "version": "3.7.3"
  }
 },
 "nbformat": 4,
 "nbformat_minor": 2
}
