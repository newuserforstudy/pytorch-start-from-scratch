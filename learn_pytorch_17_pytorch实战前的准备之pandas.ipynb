{
 "cells": [
  {
   "cell_type": "markdown",
   "metadata": {},
   "source": [
    "### 1 什么是pandas？\n",
    "  \n",
    "基于python的超级强大的数据分析工具包。 超级强大，超级好用，绝对值得使用！！！    \n",
    "官网：https://pandas.pydata.org/  "
   ]
  },
  {
   "cell_type": "markdown",
   "metadata": {},
   "source": [
    "### 2 pandas的安装  \n",
    "官网安装：pip install pandas   \n",
    "镜像安装：pip install -i https://pypi.tuna.tsinghua.edu.cn/simple pandas    "
   ]
  },
  {
   "cell_type": "markdown",
   "metadata": {},
   "source": [
    "### 3 pandas的使用 \n",
    "官网教程：https://pandas.pydata.org/docs/reference/index.html  \n",
    "实例可以参考：https://www.kesci.com/home/project/5ea82c10564b12002c0a0f7d   "
   ]
  },
  {
   "cell_type": "code",
   "execution_count": 1,
   "metadata": {},
   "outputs": [],
   "source": [
    "import pandas as pd "
   ]
  },
  {
   "cell_type": "code",
   "execution_count": null,
   "metadata": {},
   "outputs": [],
   "source": []
  }
 ],
 "metadata": {
  "kernelspec": {
   "display_name": "Python 3",
   "language": "python",
   "name": "python3"
  },
  "language_info": {
   "codemirror_mode": {
    "name": "ipython",
    "version": 3
   },
   "file_extension": ".py",
   "mimetype": "text/x-python",
   "name": "python",
   "nbconvert_exporter": "python",
   "pygments_lexer": "ipython3",
   "version": "3.7.3"
  }
 },
 "nbformat": 4,
 "nbformat_minor": 2
}
