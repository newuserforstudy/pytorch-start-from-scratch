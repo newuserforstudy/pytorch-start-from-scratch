{
 "cells": [
  {
   "cell_type": "markdown",
   "metadata": {},
   "source": [
    "### 使用jiaba加载自定义词典  "
   ]
  },
  {
   "cell_type": "code",
   "execution_count": 4,
   "metadata": {},
   "outputs": [],
   "source": [
    "# 1 使用jieba.load_userdict加载词典文件 \n",
    "import jieba\n",
    "jieba.load_userdict(\"./userdict.txt\")\n",
    "test_sent = (\n",
    "    \"李小福是创新办主任也是云计算方面的专家; 什么是八一双鹿\\n\"\n",
    "    \"例如我输入一个带“韩玉赏鉴”的标题，在自定义词库中也增加了此词为N类\\n\"\n",
    "    \"「台中」正確應該不會被切開。mac上可分出「石墨烯」；此時又可以分出來凱特琳了。\"\n",
    ")\n",
    "r = jieba.lcut(test_sent)\n"
   ]
  },
  {
   "cell_type": "code",
   "execution_count": 5,
   "metadata": {},
   "outputs": [
    {
     "data": {
      "text/plain": [
       "['李小福',\n",
       " '是',\n",
       " '创新办',\n",
       " '主任',\n",
       " '也',\n",
       " '是',\n",
       " '云计算',\n",
       " '方面',\n",
       " '的',\n",
       " '专家',\n",
       " ';',\n",
       " ' ',\n",
       " '什么',\n",
       " '是',\n",
       " '八',\n",
       " '一双',\n",
       " '鹿',\n",
       " '\\n',\n",
       " '例如',\n",
       " '我',\n",
       " '输入',\n",
       " '一个',\n",
       " '带',\n",
       " '“',\n",
       " '韩玉',\n",
       " '赏鉴',\n",
       " '”',\n",
       " '的',\n",
       " '标题',\n",
       " '，',\n",
       " '在',\n",
       " '自定义词',\n",
       " '库中',\n",
       " '也',\n",
       " '增加',\n",
       " '了',\n",
       " '此',\n",
       " '词为',\n",
       " 'N',\n",
       " '类',\n",
       " '\\n',\n",
       " '「',\n",
       " '台中',\n",
       " '」',\n",
       " '正確',\n",
       " '應該',\n",
       " '不會',\n",
       " '被',\n",
       " '切開',\n",
       " '。',\n",
       " 'mac',\n",
       " '上',\n",
       " '可',\n",
       " '分出',\n",
       " '「',\n",
       " '石墨',\n",
       " '烯',\n",
       " '」',\n",
       " '；',\n",
       " '此時',\n",
       " '又',\n",
       " '可以',\n",
       " '分出',\n",
       " '來',\n",
       " '凱特琳',\n",
       " '了',\n",
       " '。']"
      ]
     },
     "execution_count": 5,
     "metadata": {},
     "output_type": "execute_result"
    }
   ],
   "source": [
    "r"
   ]
  },
  {
   "cell_type": "code",
   "execution_count": 6,
   "metadata": {},
   "outputs": [],
   "source": [
    "# 2 通过jieba.add_word添加词\n",
    "jieba.add_word('石墨烯')\n",
    "jieba.add_word('云计算')\n",
    "jieba.add_word('创新办')\n",
    "jieba.add_word('凱特琳')\n",
    "jieba.del_word('自定义词')"
   ]
  },
  {
   "cell_type": "code",
   "execution_count": null,
   "metadata": {},
   "outputs": [],
   "source": []
  }
 ],
 "metadata": {
  "kernelspec": {
   "display_name": "Python 3",
   "language": "python",
   "name": "python3"
  },
  "language_info": {
   "codemirror_mode": {
    "name": "ipython",
    "version": 3
   },
   "file_extension": ".py",
   "mimetype": "text/x-python",
   "name": "python",
   "nbconvert_exporter": "python",
   "pygments_lexer": "ipython3",
   "version": "3.7.3"
  }
 },
 "nbformat": 4,
 "nbformat_minor": 2
}
