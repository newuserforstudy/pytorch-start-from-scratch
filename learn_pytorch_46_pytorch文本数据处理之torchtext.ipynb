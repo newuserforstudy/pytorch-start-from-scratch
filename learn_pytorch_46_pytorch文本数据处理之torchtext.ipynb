{
 "cells": [
  {
   "cell_type": "markdown",
   "metadata": {},
   "source": [
    "### 1 pytorch文本数据操作库torchtext 介绍  \n",
    "5个部分   \n",
    "(1) torchtext.datasets: https://pytorch.org/text/datasets.html    \n",
    "(2) torchtext.data: https://pytorch.org/text/data.html   \n",
    "(3) torchtext.utils: https://pytorch.org/text/utils.html    \n",
    "(4) torchtext.vocab: https://pytorch.org/text/vocab.html    \n",
    "(5)torchtext.experimental: https://pytorch.org/text/experimental_datasets.html     "
   ]
  },
  {
   "cell_type": "markdown",
   "metadata": {},
   "source": [
    "### 2 每个部分介绍 "
   ]
  },
  {
   "cell_type": "markdown",
   "metadata": {},
   "source": [
    "### 2.1 datasets简介 \n",
    "所有的文本数据集都是torchtext.data.Dataset的子类。  \n",
    "10个部分内容，28个数据集。  \n",
    "(1) language modeling,包括4个类LanguageModelingDataset, WikiText2, WikiText103, PennTreebank   \n",
    "(2) nli,包括3个类SNLI, MultiNLI, XNLI    \n",
    "(3) sst,包括1个类SST    \n",
    "(4)translation,包括4个类TranslationDataset, Multi30k, IWSLT, WMT14   \n",
    "(5) sequence_tagging,包括3个类SequenceTaggingDataset, UDPOS, CoNLL2000Chunking    \n",
    "(6) trec,包括1个类TREC   \n",
    "(7) imdb ,包括1个类IMDB    \n",
    "(8) babi,包括1个类BABI20   \n",
    "(9) text_classification,包括9个类TextClassificationDataset, AG_NEWS, SogouNews, DBpedia, YelpReviewPolarity, YelpReviewFull, YahooAnswers, AmazonReviewPolarity, AmazonReviewFull  \n",
    "(10)unsupervised_learning,包括1个类EnWik9   \n"
   ]
  },
  {
   "cell_type": "markdown",
   "metadata": {},
   "source": [
    "### 2.2 data简介\n",
    "data模块提供以下内容：  \n",
    "(1)数据预处理：能够定义数据预处理pipline   \n",
    "(2)相关操作：Batching, padding, and numericalizing   \n",
    "(3)数据集分割：Wrapper for dataset splits (train, validation, test)    \n",
    "(4)自定义数据集时操作：Loader for a custom NLP dataset   \n",
    "\n",
    "内容过多，参考官网：https://pytorch.org/text/data.html  \n",
    "更详细请参考源码。  "
   ]
  },
  {
   "cell_type": "markdown",
   "metadata": {},
   "source": [
    "### 2.3  vocab简介  \n",
    "词处理的相关模块   \n",
    "(1)Vocab类  \n",
    "(2)SubwordVocab类  \n",
    "(3)Vectors类  \n",
    "(4)GloVe类   \n",
    "(5)FastText类   \n",
    "(6)CharNGram类  \n",
    "详细内容参考官网：https://pytorch.org/text/vocab.html#  "
   ]
  },
  {
   "cell_type": "markdown",
   "metadata": {},
   "source": [
    "### 2.4 其他更多内容\n",
    "参考官网：https://pytorch.org/text/index.html  "
   ]
  },
  {
   "cell_type": "code",
   "execution_count": null,
   "metadata": {},
   "outputs": [],
   "source": []
  }
 ],
 "metadata": {
  "kernelspec": {
   "display_name": "Python 3",
   "language": "python",
   "name": "python3"
  },
  "language_info": {
   "codemirror_mode": {
    "name": "ipython",
    "version": 3
   },
   "file_extension": ".py",
   "mimetype": "text/x-python",
   "name": "python",
   "nbconvert_exporter": "python",
   "pygments_lexer": "ipython3",
   "version": "3.7.3"
  }
 },
 "nbformat": 4,
 "nbformat_minor": 2
}
