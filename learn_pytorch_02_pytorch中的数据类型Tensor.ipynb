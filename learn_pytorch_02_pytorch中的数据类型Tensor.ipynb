{
 "cells": [
  {
   "cell_type": "markdown",
   "metadata": {},
   "source": [
    "## Tesnor数据类型 （张量）\n",
    "0维：点，标量  \n",
    "1维：向量  \n",
    "2维：矩阵  \n",
    "多维：多维矩阵  "
   ]
  },
  {
   "cell_type": "code",
   "execution_count": 10,
   "metadata": {},
   "outputs": [],
   "source": [
    "import torch "
   ]
  },
  {
   "cell_type": "code",
   "execution_count": 11,
   "metadata": {},
   "outputs": [
    {
     "name": "stdout",
     "output_type": "stream",
     "text": [
      "<class 'torch.Tensor'>\n",
      "tensor(1)\n",
      "torch.Size([])\n"
     ]
    }
   ],
   "source": [
    "# 1.1 标量\n",
    "a = torch.tensor(1)\n",
    "print(type(a))\n",
    "print(a)\n",
    "print(a.size())"
   ]
  },
  {
   "cell_type": "code",
   "execution_count": 15,
   "metadata": {},
   "outputs": [
    {
     "name": "stdout",
     "output_type": "stream",
     "text": [
      "<class 'torch.Tensor'>\n",
      "tensor([1])\n",
      "torch.Size([1])\n",
      "<class 'torch.Tensor'>\n",
      "tensor([1, 2, 3])\n",
      "torch.Size([3])\n"
     ]
    }
   ],
   "source": [
    "# 1.2 向量\n",
    "b = torch.tensor([1])\n",
    "print(type(b))\n",
    "print(b)\n",
    "print(b.size())\n",
    "\n",
    "b1 = torch.tensor([1,2,3])\n",
    "\n",
    "print(type(b1))\n",
    "print(b1)\n",
    "print(b1.size())"
   ]
  },
  {
   "cell_type": "code",
   "execution_count": 13,
   "metadata": {},
   "outputs": [
    {
     "name": "stdout",
     "output_type": "stream",
     "text": [
      "<class 'torch.Tensor'>\n",
      "tensor([[1, 2],\n",
      "        [3, 4]])\n",
      "torch.Size([2, 2])\n"
     ]
    }
   ],
   "source": [
    "# 1.3 矩阵\n",
    "c = torch.tensor([\n",
    "    [1, 2],\n",
    "    [3, 4]]\n",
    ")\n",
    "print(type(c))\n",
    "print(c)\n",
    "print(c.size())"
   ]
  },
  {
   "cell_type": "code",
   "execution_count": 14,
   "metadata": {},
   "outputs": [
    {
     "name": "stdout",
     "output_type": "stream",
     "text": [
      "<class 'torch.Tensor'>\n",
      "tensor([[[1, 2],\n",
      "         [1, 2],\n",
      "         [1, 2],\n",
      "         [1, 2]],\n",
      "\n",
      "        [[1, 2],\n",
      "         [1, 2],\n",
      "         [1, 2],\n",
      "         [1, 2]],\n",
      "\n",
      "        [[1, 2],\n",
      "         [1, 2],\n",
      "         [1, 2],\n",
      "         [1, 2]]])\n",
      "torch.Size([3, 4, 2])\n"
     ]
    }
   ],
   "source": [
    "# 1.4 多维矩阵\n",
    "d = torch.tensor([\n",
    "    [\n",
    "        [1, 2], [1, 2],\n",
    "        [1, 2], [1, 2]\n",
    "    ],\n",
    "    [\n",
    "        [1, 2], [1, 2],\n",
    "        [1, 2], [1, 2]\n",
    "    ],\n",
    "    [\n",
    "        [1, 2], [1, 2],\n",
    "        [1, 2], [1, 2]\n",
    "    ]\n",
    "])\n",
    "print(type(d))\n",
    "print(d)\n",
    "print(d.size())"
   ]
  },
  {
   "cell_type": "code",
   "execution_count": null,
   "metadata": {},
   "outputs": [],
   "source": []
  }
 ],
 "metadata": {
  "kernelspec": {
   "display_name": "Python 3",
   "language": "python",
   "name": "python3"
  },
  "language_info": {
   "codemirror_mode": {
    "name": "ipython",
    "version": 3
   },
   "file_extension": ".py",
   "mimetype": "text/x-python",
   "name": "python",
   "nbconvert_exporter": "python",
   "pygments_lexer": "ipython3",
   "version": "3.7.3"
  }
 },
 "nbformat": 4,
 "nbformat_minor": 2
}
