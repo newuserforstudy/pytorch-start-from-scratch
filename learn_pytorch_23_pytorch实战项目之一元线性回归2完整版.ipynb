{
 "cells": [
  {
   "cell_type": "code",
   "execution_count": 1,
   "metadata": {},
   "outputs": [
    {
     "data": {
      "image/png": "[encoded data removed]",
      "text/plain": [
       "<Figure size 432x288 with 1 Axes>"
      ]
     },
     "metadata": {
      "needs_background": "light"
     },
     "output_type": "display_data"
    }
   ],
   "source": [
    "# 1 导入需要的模块和包 \n",
    "import numpy as np \n",
    "import matplotlib.pyplot as plt \n",
    "import torch \n",
    "# 嵌入模式\n",
    "%matplotlib inline   \n",
    "\n",
    "#  2 生成数据集  \n",
    "# 2.1 特征数据 \n",
    "x_data = np.linspace(1,3,num=50,endpoint=True,retstep=0,dtype=np.float32)\n",
    "\n",
    "# 2.2 目标数据：添加噪声 \n",
    "diff = np.random.randn(50)\n",
    "y_data = 3 * x_data+0.1 + diff\n",
    "y_data = np.array(y_data, dtype=np.float32) \n",
    "\n",
    "# 2.3 组建数据集:将所有样本组合起来 \n",
    "x_data = np.expand_dims(x_data,axis=1)\n",
    "y_data = np.expand_dims(y_data,axis=1)\n",
    "\n",
    "# 2.4 画图展示结果 \n",
    "plt.plot(x_data,y_data,\"ro\")\n",
    "plt.show()\n",
    "\n",
    "\n",
    "# 3 创建线性回归模型 \n",
    "class MySimpleLinearRegression(torch.nn.Module):\n",
    "    def __init__(self):\n",
    "        super(MySimpleLinearRegression,self).__init__()\n",
    "        self.linear = torch.nn.Linear(1,1)\n",
    "    \n",
    "    def forward(self,x):\n",
    "        out = self.linear(x)\n",
    "        return out \n",
    "\n",
    "    \n",
    "# 4 训练模型并测试\n",
    "def train_and_test():\n",
    "    # 4.1 创建模型，选择GPU或者cpu\n",
    "    if torch.cuda.is_available():\n",
    "        device = torch.device(\"cuda:0\")\n",
    "        model = MySimpleLinearRegression()\n",
    "        model.to(device)\n",
    "    else:\n",
    "        device = torch.device(\"cpu\")\n",
    "        model = MySimpleLinearRegression()\n",
    "        model.to(device)\n",
    "        \n",
    "    # 4.2 创建优化目标和优化方法\n",
    "    \n",
    "    criterion = torch.nn.MSELoss() # 均方误差 \n",
    "    optimizer = torch.optim.SGD(model.parameters(),lr=0.01) # 随机梯度下降优化\n",
    "    \n",
    "    for i in range(500):\n",
    "        i+=1\n",
    "        \n",
    "        # numpy数据转为tensor \n",
    "        inputs = torch.from_numpy(x_data).to(device)\n",
    "        labels = torch.from_numpy(y_data).to(device)\n",
    "        \n",
    "        # 4.3 前向传播 \n",
    "        output = model(inputs)\n",
    "        \n",
    "        # 4.4 计算损失\n",
    "        loss = criterion(output, labels)\n",
    "        \n",
    "        # 4.5 反向传播\n",
    "        # 梯度要清0\n",
    "        optimizer.zero_grad()\n",
    "        \n",
    "        loss.backward()\n",
    "        \n",
    "        # 更新权重参数\n",
    "        optimizer.step()\n",
    "\n",
    "        # 打印\n",
    "        if i % 10 == 0:\n",
    "            print('loss值：', loss.item())\n",
    "        \n",
    "    # 4.6 测试模式\n",
    "    model.eval()\n",
    "    y_predict = model(torch.from_numpy(x_data)).data.numpy()\n",
    "    plt.plot(x_data, y_data, \"ro\")\n",
    "    plt.plot(x_data, y_predict, \"k\")\n",
    "    plt.show()"
   ]
  },
  {
   "cell_type": "code",
   "execution_count": 2,
   "metadata": {},
   "outputs": [
    {
     "name": "stdout",
     "output_type": "stream",
     "text": [
      "loss值： 6.654595851898193\n",
      "loss值： 2.0426411628723145\n",
      "loss值： 1.5370522737503052\n",
      "loss值： 1.4721521139144897\n",
      "loss值： 1.4547921419143677\n",
      "loss值： 1.442800760269165\n",
      "loss值： 1.4316481351852417\n",
      "loss值： 1.4208414554595947\n",
      "loss值： 1.4103214740753174\n",
      "loss值： 1.40007483959198\n",
      "loss值： 1.390094518661499\n",
      "loss值： 1.3803731203079224\n",
      "loss值： 1.3709038496017456\n",
      "loss值： 1.3616803884506226\n",
      "loss值： 1.352696418762207\n",
      "loss值： 1.3439455032348633\n",
      "loss值： 1.3354216814041138\n",
      "loss值： 1.3271191120147705\n",
      "loss值： 1.3190319538116455\n",
      "loss值： 1.311154842376709\n",
      "loss值： 1.3034818172454834\n",
      "loss值： 1.2960079908370972\n",
      "loss值： 1.2887282371520996\n",
      "loss值： 1.2816375494003296\n",
      "loss值： 1.2747308015823364\n",
      "loss值： 1.268003225326538\n",
      "loss值： 1.261449933052063\n",
      "loss值： 1.255067229270935\n",
      "loss值： 1.248849868774414\n",
      "loss值： 1.2427939176559448\n",
      "loss值： 1.236895203590393\n",
      "loss值： 1.2311495542526245\n",
      "loss值： 1.225553035736084\n",
      "loss值： 1.2201017141342163\n",
      "loss值： 1.2147917747497559\n",
      "loss值： 1.2096195220947266\n",
      "loss值： 1.2045819759368896\n",
      "loss值： 1.1996747255325317\n",
      "loss值： 1.1948949098587036\n",
      "loss值： 1.190239429473877\n",
      "loss值： 1.1857043504714966\n",
      "loss值： 1.1812872886657715\n",
      "loss值： 1.1769845485687256\n",
      "loss值： 1.1727936267852783\n",
      "loss值： 1.168711543083191\n",
      "loss值： 1.1647354364395142\n",
      "loss值： 1.1608624458312988\n",
      "loss值： 1.1570900678634644\n",
      "loss值： 1.1534154415130615\n",
      "loss值： 1.1498360633850098\n"
     ]
    },
    {
     "data": {
      "image/png": "[encoded data removed]",
      "text/plain": [
       "<Figure size 432x288 with 1 Axes>"
      ]
     },
     "metadata": {
      "needs_background": "light"
     },
     "output_type": "display_data"
    }
   ],
   "source": [
    "train_and_test()"
   ]
  },
  {
   "cell_type": "code",
   "execution_count": null,
   "metadata": {},
   "outputs": [],
   "source": []
  }
 ],
 "metadata": {
  "kernelspec": {
   "display_name": "Python 3",
   "language": "python",
   "name": "python3"
  },
  "language_info": {
   "codemirror_mode": {
    "name": "ipython",
    "version": 3
   },
   "file_extension": ".py",
   "mimetype": "text/x-python",
   "name": "python",
   "nbconvert_exporter": "python",
   "pygments_lexer": "ipython3",
   "version": "3.7.3"
  }
 },
 "nbformat": 4,
 "nbformat_minor": 2
}
