{
 "cells": [
  {
   "cell_type": "markdown",
   "metadata": {},
   "source": [
    "### 1 pytorch图像数据操作库torchvision介绍  \n",
    "官网地址：https://pytorch.org/docs/stable/torchvision/index.html  \n",
    "\n",
    "(1)torchvision.datasets包：提供常用的计算机视觉图像数据集   \n",
    "(2)torchvision.io包：视频文件IO操作   \n",
    "(3)torchvision.models包：定义模型，图像分类，逐像素语义分割，对象检测，实例分割，人员关键点检测和视频分类\n",
    "(4)torchvision.ops包：计算机视觉的运算符操作    \n",
    "(5)torchvision.transforms包：常见的图像变换操作  \n",
    "(6)torchvision.utils模块：包含2个函数，make_grid制作图像网格和save_image函数将给定的张量保存到图像文件中     \n"
   ]
  },
  {
   "cell_type": "markdown",
   "metadata": {},
   "source": [
    "### 2 torchvision.datasets介绍 \n",
    "MNIST  \n",
    "\n",
    "Fashion-MNIST  \n",
    "\n",
    "KMNIST  \n",
    "\n",
    "EMNIST  \n",
    "\n",
    "QMNIST  \n",
    "\n",
    "FakeData  \n",
    "\n",
    "COCO   \n",
    "\n",
    "Captions  \n",
    "\n",
    "Detection  \n",
    "\n",
    "LSUN  \n",
    "\n",
    "ImageFolder  \n",
    "\n",
    "DatasetFolder  \n",
    "\n",
    "ImageNet  \n",
    "\n",
    "CIFAR  \n",
    "\n",
    "STL10  \n",
    "\n",
    "SVHN  \n",
    "\n",
    "PhotoTour  \n",
    "\n",
    "SBU  \n",
    "\n",
    "Flickr  \n",
    "\n",
    "VOC  \n",
    "\n",
    "Cityscapes  \n",
    "\n",
    "SBD  \n",
    "\n",
    "USPS  \n",
    "\n",
    "Kinetics-400  \n",
    "\n",
    "HMDB51  \n",
    "\n",
    "UCF101  \n",
    "\n",
    "CelebA  "
   ]
  },
  {
   "cell_type": "markdown",
   "metadata": {},
   "source": [
    "#### 2.1 mnist数据集  \n",
    "CLASS  torchvision.datasets.MNIST(root, train=True, transform=None, target_transform=None, download=False)  \n",
    "\n",
    "参数意义：  \n",
    "root (string) – Root directory of dataset where MNIST/processed/training.pt and MNIST/processed/test.pt exist.  \n",
    "\n",
    "train (bool, optional) – If True, creates dataset from training.pt, otherwise from test.pt.  \n",
    "\n",
    " \n",
    "transform (callable, optional) – A function/transform that takes in an PIL image and returns a transformed version. E.g, transforms.RandomCrop   \n",
    "\n",
    " \n",
    "target_transform (callable, optional) – A function/transform that takes in the target and transforms it.  \n",
    "\n",
    "\n",
    "download (bool, optional) – If true, downloads the dataset from the internet and puts it in root directory. If dataset is already downloaded, it is not downloaded again.   \n",
    " "
   ]
  },
  {
   "cell_type": "code",
   "execution_count": 6,
   "metadata": {},
   "outputs": [],
   "source": [
    "import torch \n",
    "import torchvision\n",
    "from torchvision.datasets import MNIST"
   ]
  },
  {
   "cell_type": "code",
   "execution_count": 7,
   "metadata": {},
   "outputs": [],
   "source": [
    "mnist_path = \"./data\"\n",
    "mnist_train = MNIST(mnist_path,train=True,transform=None,target_transform=None,download=True)\n",
    "mnist_test = MNIST(mnist_path,train=False,transform=None,target_transform=None,download=True)"
   ]
  },
  {
   "cell_type": "markdown",
   "metadata": {},
   "source": [
    "#### 2.2 Fashion-MNIST数据集  \n",
    "torchvision.datasets.FashionMNIST(root, train=True, transform=None, target_transform=None, download=False)\n",
    "Fashion-MNIST Dataset.  \n",
    "\n",
    "参数意义：  \n",
    "root (string) – Root directory of dataset where Fashion-MNIST/processed/training.pt and Fashion-MNIST/processed/test.pt exist.  \n",
    "\n",
    "train (bool, optional) – If True, creates dataset from training.pt, otherwise from test.pt.  \n",
    "\n",
    "download (bool, optional) – If true, downloads the dataset from the internet and puts it in root directory. If dataset is already downloaded, it is not downloaded again.  \n",
    "\n",
    "transform (callable, optional) – A function/transform that takes in an PIL image and returns a transformed version. E.g, transforms.RandomCrop  \n",
    "\n",
    "target_transform (callable, optional) – A function/transform that takes in the target and transforms it.  "
   ]
  },
  {
   "cell_type": "code",
   "execution_count": 8,
   "metadata": {},
   "outputs": [],
   "source": [
    "# fashion_mnist_path = \"./data\"\n",
    "# fashion_mnist_train = FashionMNIST(FashionMNIST,train=True,transform=None,target_transform=None,download=True)\n",
    "# fashion_mnist_test =FashionMNIST(FashionMNIST,train=False,transform=None,target_transform=None,download=True)"
   ]
  },
  {
   "cell_type": "markdown",
   "metadata": {},
   "source": [
    "#### 2.3 KMNIST\n",
    "CLASS torchvision.datasets.KMNIST(root, train=True, transform=None, target_transform=None, download=False)"
   ]
  },
  {
   "cell_type": "markdown",
   "metadata": {},
   "source": [
    ".....   \n",
    ".....  \n",
    ".....  \n",
    "\n",
    "更多数据集的信息参考官网：https://pytorch.org/docs/stable/torchvision/datasets.html"
   ]
  },
  {
   "cell_type": "code",
   "execution_count": null,
   "metadata": {},
   "outputs": [],
   "source": []
  }
 ],
 "metadata": {
  "kernelspec": {
   "display_name": "Python 3",
   "language": "python",
   "name": "python3"
  },
  "language_info": {
   "codemirror_mode": {
    "name": "ipython",
    "version": 3
   },
   "file_extension": ".py",
   "mimetype": "text/x-python",
   "name": "python",
   "nbconvert_exporter": "python",
   "pygments_lexer": "ipython3",
   "version": "3.7.3"
  }
 },
 "nbformat": 4,
 "nbformat_minor": 2
}
