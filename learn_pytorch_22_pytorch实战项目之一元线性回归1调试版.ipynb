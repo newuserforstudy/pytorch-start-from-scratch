{
 "cells": [
  {
   "cell_type": "markdown",
   "metadata": {},
   "source": [
    "## 1 算法理论阶段：线性回归原理\n",
    "参考：https://www.yuque.com/books/share/f4031f65-70c1-4909-ba01-c47c31398466/mkn2fh  "
   ]
  },
  {
   "cell_type": "markdown",
   "metadata": {},
   "source": [
    "## 2 算法实现阶段 ：Coding \n",
    "\n",
    "本节实现一元线性回归，即输入是一个数值，输出也是一个数值  \n",
    "步骤： \n",
    "\n",
    "(1) 准备数据   \n",
    "(2) 数据处理   \n",
    "(3) 建立模型  \n",
    "(4) 参数优化  \n",
    "(5) 使用模型  \n",
    "(6) 结果展示   \n"
   ]
  },
  {
   "cell_type": "code",
   "execution_count": 1,
   "metadata": {},
   "outputs": [],
   "source": [
    "# 1 导入需要的模块和包 \n",
    "import numpy as np \n",
    "import matplotlib.pyplot as plt \n",
    "import torch \n",
    "# 嵌入模式\n",
    "%matplotlib inline   "
   ]
  },
  {
   "cell_type": "code",
   "execution_count": 2,
   "metadata": {},
   "outputs": [],
   "source": [
    "#  2 生成数据集  \n",
    "# 2.1 特征数据 \n",
    "x_data = np.linspace(1,3,num=50,endpoint=True,retstep=0,dtype=np.float32)"
   ]
  },
  {
   "cell_type": "code",
   "execution_count": 3,
   "metadata": {},
   "outputs": [
    {
     "data": {
      "text/plain": [
       "array([1.       , 1.0408163, 1.0816326, 1.1224489, 1.1632653, 1.2040817,\n",
       "       1.244898 , 1.2857143, 1.3265306, 1.3673469, 1.4081633, 1.4489796,\n",
       "       1.4897959, 1.5306122, 1.5714285, 1.6122448, 1.6530613, 1.6938776,\n",
       "       1.7346939, 1.7755102, 1.8163265, 1.8571428, 1.8979592, 1.9387755,\n",
       "       1.9795918, 2.0204082, 2.0612245, 2.1020408, 2.142857 , 2.1836734,\n",
       "       2.2244897, 2.2653062, 2.3061225, 2.3469388, 2.3877552, 2.4285715,\n",
       "       2.4693878, 2.510204 , 2.5510204, 2.5918367, 2.632653 , 2.6734693,\n",
       "       2.7142856, 2.7551022, 2.7959185, 2.8367348, 2.877551 , 2.9183674,\n",
       "       2.9591837, 3.       ], dtype=float32)"
      ]
     },
     "execution_count": 3,
     "metadata": {},
     "output_type": "execute_result"
    }
   ],
   "source": [
    "x_data"
   ]
  },
  {
   "cell_type": "code",
   "execution_count": 4,
   "metadata": {},
   "outputs": [],
   "source": [
    "# 2.2 目标数据：添加噪声 \n",
    "diff = np.random.randn(50)\n",
    "y_data = 3 * x_data+0.1 + diff\n",
    "y_data = np.array(y_data, dtype=np.float32) "
   ]
  },
  {
   "cell_type": "code",
   "execution_count": 5,
   "metadata": {},
   "outputs": [
    {
     "data": {
      "text/plain": [
       "array([3.2729864, 4.0101833, 3.2246196, 3.887704 , 3.4945755, 3.5500188,\n",
       "       4.2532625, 4.175687 , 4.7820964, 3.5827434, 4.458418 , 5.885969 ,\n",
       "       6.2017226, 3.3612406, 4.660277 , 4.000154 , 3.6820729, 5.435422 ,\n",
       "       3.2681718, 6.7248597, 5.591111 , 6.156602 , 5.328954 , 4.7470036,\n",
       "       6.034169 , 5.167721 , 5.7000804, 6.086704 , 7.221954 , 5.748967 ,\n",
       "       7.0462313, 6.922266 , 6.7426324, 5.737669 , 7.428431 , 7.1306863,\n",
       "       5.560957 , 7.29949  , 7.1913586, 7.558865 , 6.4801025, 8.805758 ,\n",
       "       6.102041 , 5.488206 , 8.406369 , 7.6884255, 8.76883  , 7.6366954,\n",
       "       9.647817 , 8.113867 ], dtype=float32)"
      ]
     },
     "execution_count": 5,
     "metadata": {},
     "output_type": "execute_result"
    }
   ],
   "source": [
    "y_data"
   ]
  },
  {
   "cell_type": "code",
   "execution_count": 6,
   "metadata": {},
   "outputs": [],
   "source": [
    "# 2.3 组建数据集:将所有样本组合起来 \n",
    "\n",
    "x_data = np.expand_dims(x_data,axis=1)\n",
    "y_data = np.expand_dims(y_data,axis=1)"
   ]
  },
  {
   "cell_type": "code",
   "execution_count": 7,
   "metadata": {},
   "outputs": [
    {
     "data": {
      "text/plain": [
       "array([[1.       ],\n",
       "       [1.0408163],\n",
       "       [1.0816326],\n",
       "       [1.1224489],\n",
       "       [1.1632653],\n",
       "       [1.2040817],\n",
       "       [1.244898 ],\n",
       "       [1.2857143],\n",
       "       [1.3265306],\n",
       "       [1.3673469],\n",
       "       [1.4081633],\n",
       "       [1.4489796],\n",
       "       [1.4897959],\n",
       "       [1.5306122],\n",
       "       [1.5714285],\n",
       "       [1.6122448],\n",
       "       [1.6530613],\n",
       "       [1.6938776],\n",
       "       [1.7346939],\n",
       "       [1.7755102],\n",
       "       [1.8163265],\n",
       "       [1.8571428],\n",
       "       [1.8979592],\n",
       "       [1.9387755],\n",
       "       [1.9795918],\n",
       "       [2.0204082],\n",
       "       [2.0612245],\n",
       "       [2.1020408],\n",
       "       [2.142857 ],\n",
       "       [2.1836734],\n",
       "       [2.2244897],\n",
       "       [2.2653062],\n",
       "       [2.3061225],\n",
       "       [2.3469388],\n",
       "       [2.3877552],\n",
       "       [2.4285715],\n",
       "       [2.4693878],\n",
       "       [2.510204 ],\n",
       "       [2.5510204],\n",
       "       [2.5918367],\n",
       "       [2.632653 ],\n",
       "       [2.6734693],\n",
       "       [2.7142856],\n",
       "       [2.7551022],\n",
       "       [2.7959185],\n",
       "       [2.8367348],\n",
       "       [2.877551 ],\n",
       "       [2.9183674],\n",
       "       [2.9591837],\n",
       "       [3.       ]], dtype=float32)"
      ]
     },
     "execution_count": 7,
     "metadata": {},
     "output_type": "execute_result"
    }
   ],
   "source": [
    "x_data"
   ]
  },
  {
   "cell_type": "code",
   "execution_count": 8,
   "metadata": {},
   "outputs": [
    {
     "data": {
      "text/plain": [
       "array([[3.2729864],\n",
       "       [4.0101833],\n",
       "       [3.2246196],\n",
       "       [3.887704 ],\n",
       "       [3.4945755],\n",
       "       [3.5500188],\n",
       "       [4.2532625],\n",
       "       [4.175687 ],\n",
       "       [4.7820964],\n",
       "       [3.5827434],\n",
       "       [4.458418 ],\n",
       "       [5.885969 ],\n",
       "       [6.2017226],\n",
       "       [3.3612406],\n",
       "       [4.660277 ],\n",
       "       [4.000154 ],\n",
       "       [3.6820729],\n",
       "       [5.435422 ],\n",
       "       [3.2681718],\n",
       "       [6.7248597],\n",
       "       [5.591111 ],\n",
       "       [6.156602 ],\n",
       "       [5.328954 ],\n",
       "       [4.7470036],\n",
       "       [6.034169 ],\n",
       "       [5.167721 ],\n",
       "       [5.7000804],\n",
       "       [6.086704 ],\n",
       "       [7.221954 ],\n",
       "       [5.748967 ],\n",
       "       [7.0462313],\n",
       "       [6.922266 ],\n",
       "       [6.7426324],\n",
       "       [5.737669 ],\n",
       "       [7.428431 ],\n",
       "       [7.1306863],\n",
       "       [5.560957 ],\n",
       "       [7.29949  ],\n",
       "       [7.1913586],\n",
       "       [7.558865 ],\n",
       "       [6.4801025],\n",
       "       [8.805758 ],\n",
       "       [6.102041 ],\n",
       "       [5.488206 ],\n",
       "       [8.406369 ],\n",
       "       [7.6884255],\n",
       "       [8.76883  ],\n",
       "       [7.6366954],\n",
       "       [9.647817 ],\n",
       "       [8.113867 ]], dtype=float32)"
      ]
     },
     "execution_count": 8,
     "metadata": {},
     "output_type": "execute_result"
    }
   ],
   "source": [
    "y_data"
   ]
  },
  {
   "cell_type": "code",
   "execution_count": 9,
   "metadata": {},
   "outputs": [
    {
     "data": {
      "image/png": "[encoded data removed]",
      "text/plain": [
       "<Figure size 432x288 with 1 Axes>"
      ]
     },
     "metadata": {
      "needs_background": "light"
     },
     "output_type": "display_data"
    }
   ],
   "source": [
    "# 2.4 画图展示结果 \n",
    "plt.plot(x_data,y_data,\"ro\")\n",
    "plt.show()"
   ]
  },
  {
   "cell_type": "markdown",
   "metadata": {},
   "source": [
    "###  创建神经网络模型步骤：\n",
    "1 创建类，继承于torch.nn.Module(所有神经网络模型的基类)   \n",
    "2 重写\\_\\_init\\_\\_ 方法，并重用父类的\\_\\_init\\_\\_方法，定义自己的模型类型和参数   \n",
    "3 重写反向传播forward方法，传递参数  \n",
    "\n",
    "关于torch.nn模块参考：https://pytorch.org/docs/stable/nn.html   \n"
   ]
  },
  {
   "cell_type": "code",
   "execution_count": 10,
   "metadata": {},
   "outputs": [],
   "source": [
    "# 3 创建线性回归模型 \n",
    "class MySimpleLinearRegression(torch.nn.Module):\n",
    "    def __init__(self):\n",
    "        super(MySimpleLinearRegression,self).__init__()\n",
    "        self.linear = torch.nn.Linear(1,1)\n",
    "    \n",
    "    def forward(self,x):\n",
    "        out = self.linear(x)\n",
    "        return out "
   ]
  },
  {
   "cell_type": "code",
   "execution_count": 11,
   "metadata": {},
   "outputs": [],
   "source": [
    "# 4 训练模型并测试\n",
    "\n",
    "def train_and_test():\n",
    "    # 4.1 创建模型，选择GPU或者cpu\n",
    "    if torch.cuda.is_available():\n",
    "        device = torch.device(\"cuda:0\")\n",
    "        model = MySimpleLinearRegression()\n",
    "        model.to(device)\n",
    "    else:\n",
    "        device = torch.device(\"cpu\")\n",
    "        model = MySimpleLinearRegression()\n",
    "        model.to(device)\n",
    "        \n",
    "    # 4.2 创建优化目标和优化方法\n",
    "    \n",
    "    criterion = torch.nn.MSELoss() # 均方误差 \n",
    "    optimizer = torch.optim.SGD(model.parameters(),lr=0.01) # 随机梯度下降优化\n",
    "    \n",
    "    for i in range(500):\n",
    "        i+=1\n",
    "        \n",
    "        # numpy数据转为tensor \n",
    "        inputs = torch.from_numpy(x_data).to(device)\n",
    "        labels = torch.from_numpy(y_data).to(device)\n",
    "        \n",
    "        # 4.3 前向传播 \n",
    "        output = model(inputs)\n",
    "        \n",
    "        # 4.4 计算损失\n",
    "        loss = criterion(output, labels)\n",
    "        \n",
    "        # 4.5 反向传播\n",
    "        # 梯度要清0\n",
    "        optimizer.zero_grad()\n",
    "        \n",
    "        loss.backward()\n",
    "        \n",
    "        # 更新权重参数\n",
    "        optimizer.step()\n",
    "\n",
    "        # 打印\n",
    "        if i % 10 == 0:\n",
    "            print('loss值：', loss.item())\n",
    "        \n",
    "    # 4.6 测试模式\n",
    "    model.eval()\n",
    "    y_predict = model(torch.from_numpy(x_data)).data.numpy()\n",
    "    plt.plot(x_data, y_data, \"ro\")\n",
    "    plt.plot(x_data, y_predict, \"k\")\n",
    "    plt.show()"
   ]
  },
  {
   "cell_type": "code",
   "execution_count": 12,
   "metadata": {},
   "outputs": [
    {
     "name": "stdout",
     "output_type": "stream",
     "text": [
      "loss值： 6.905338764190674\n",
      "loss值： 1.402858853340149\n",
      "loss值： 0.8125803470611572\n",
      "loss值： 0.7491340041160583\n",
      "loss值： 0.7421940565109253\n",
      "loss值： 0.741317868232727\n",
      "loss值： 0.7410953640937805\n",
      "loss值： 0.7409462928771973\n",
      "loss值： 0.7408083081245422\n",
      "loss值： 0.7406746745109558\n",
      "loss值： 0.7405446767807007\n",
      "loss值： 0.740418016910553\n",
      "loss值： 0.7402946949005127\n",
      "loss值： 0.7401745319366455\n",
      "loss值： 0.7400574684143066\n",
      "loss值： 0.7399435639381409\n",
      "loss值： 0.7398324012756348\n",
      "loss值： 0.739724338054657\n",
      "loss值： 0.7396190762519836\n",
      "loss值： 0.7395163178443909\n",
      "loss值： 0.7394163012504578\n",
      "loss值： 0.7393189668655396\n",
      "loss值： 0.7392241954803467\n",
      "loss值： 0.7391317486763\n",
      "loss值： 0.739041805267334\n",
      "loss值： 0.7389541864395142\n",
      "loss值： 0.7388688325881958\n",
      "loss值： 0.7387857437133789\n",
      "loss值： 0.7387046813964844\n",
      "loss值： 0.738625705242157\n",
      "loss值： 0.738548994064331\n",
      "loss值： 0.7384740114212036\n",
      "loss值： 0.7384011745452881\n",
      "loss值： 0.738330066204071\n",
      "loss值： 0.7382609844207764\n",
      "loss值： 0.7381936311721802\n",
      "loss值： 0.7381280064582825\n",
      "loss值： 0.7380641102790833\n",
      "loss值： 0.7380017638206482\n",
      "loss值： 0.7379411458969116\n",
      "loss值： 0.7378820776939392\n",
      "loss值： 0.7378244996070862\n",
      "loss值： 0.7377684712409973\n",
      "loss值： 0.7377138137817383\n",
      "loss值： 0.7376607060432434\n",
      "loss值： 0.7376089096069336\n",
      "loss值： 0.7375584244728088\n",
      "loss值： 0.7375093102455139\n",
      "loss值： 0.7374614477157593\n",
      "loss值： 0.7374147772789001\n"
     ]
    },
    {
     "data": {
      "image/png": "[encoded data removed]",
      "text/plain": [
       "<Figure size 432x288 with 1 Axes>"
      ]
     },
     "metadata": {
      "needs_background": "light"
     },
     "output_type": "display_data"
    }
   ],
   "source": [
    "train_and_test()"
   ]
  },
  {
   "cell_type": "code",
   "execution_count": null,
   "metadata": {},
   "outputs": [],
   "source": []
  }
 ],
 "metadata": {
  "kernelspec": {
   "display_name": "Python 3",
   "language": "python",
   "name": "python3"
  },
  "language_info": {
   "codemirror_mode": {
    "name": "ipython",
    "version": 3
   },
   "file_extension": ".py",
   "mimetype": "text/x-python",
   "name": "python",
   "nbconvert_exporter": "python",
   "pygments_lexer": "ipython3",
   "version": "3.7.3"
  }
 },
 "nbformat": 4,
 "nbformat_minor": 2
}
