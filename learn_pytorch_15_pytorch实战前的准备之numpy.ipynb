{
 "cells": [
  {
   "cell_type": "markdown",
   "metadata": {},
   "source": [
    "### 1 numpy是什么？为什么要用numpy？\n",
    "numpy官网：https://numpy.org/\n",
    "\n",
    "numpy是python进行科学计算的工具包，就是python的第三方数学计算的工具。  \n",
    "\n",
    "python本身带有数学计算的函数和math模块，但是numpy的功能更强大，尤其是处理多维矩阵。"
   ]
  },
  {
   "cell_type": "markdown",
   "metadata": {},
   "source": [
    "### 2 安装numpy \n",
    "官网安装：pip install numpy   \n",
    "镜像安装：pip install -i https://pypi.tuna.tsinghua.edu.cn/simple numpy   "
   ]
  },
  {
   "cell_type": "markdown",
   "metadata": {},
   "source": [
    "### 3 numpy的使用\n",
    "numpy官网教程：https://numpy.org/devdocs/user/quickstart.html  \n",
    "numpy的实例：https://www.kesci.com/home/project/59f29f67c5f3f5119527a2cc  "
   ]
  },
  {
   "cell_type": "code",
   "execution_count": 1,
   "metadata": {},
   "outputs": [],
   "source": [
    "import numpy as np "
   ]
  },
  {
   "cell_type": "code",
   "execution_count": null,
   "metadata": {},
   "outputs": [],
   "source": []
  }
 ],
 "metadata": {
  "kernelspec": {
   "display_name": "Python 3",
   "language": "python",
   "name": "python3"
  },
  "language_info": {
   "codemirror_mode": {
    "name": "ipython",
    "version": 3
   },
   "file_extension": ".py",
   "mimetype": "text/x-python",
   "name": "python",
   "nbconvert_exporter": "python",
   "pygments_lexer": "ipython3",
   "version": "3.7.3"
  }
 },
 "nbformat": 4,
 "nbformat_minor": 2
}
