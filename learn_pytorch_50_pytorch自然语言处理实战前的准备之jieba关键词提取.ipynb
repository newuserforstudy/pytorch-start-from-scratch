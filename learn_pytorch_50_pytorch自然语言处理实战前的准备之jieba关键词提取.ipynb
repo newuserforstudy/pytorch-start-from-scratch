{
 "cells": [
  {
   "cell_type": "code",
   "execution_count": 1,
   "metadata": {},
   "outputs": [],
   "source": [
    "import jieba\n",
    "import jieba.analyse as ays\n",
    "\n",
    "\n",
    "def load_file(file_path):\n",
    "    \"\"\"\n",
    "    把一个文本文件转为一字符串，条件是：去掉空格和换行符。\n",
    "    :return:\n",
    "    \"\"\"\n",
    "    out_string = \"\"\n",
    "    with open(file_path, encoding=\"utf-8\") as f:\n",
    "        lines = f.readlines()\n",
    "        for line in lines:\n",
    "            content = line.strip()\n",
    "            out_string += content\n",
    "\n",
    "    return out_string\n",
    "\n",
    "\n",
    "s = load_file(\"./倚天屠龙记.txt\")\n",
    "ays.set_stop_words(\"./停用词.txt\")\n"
   ]
  },
  {
   "cell_type": "markdown",
   "metadata": {},
   "source": [
    "### 1 TF-IDF关键词提取"
   ]
  },
  {
   "cell_type": "code",
   "execution_count": 2,
   "metadata": {},
   "outputs": [
    {
     "name": "stderr",
     "output_type": "stream",
     "text": [
      "Building prefix dict from the default dictionary ...\n",
      "Loading model from cache C:\\Users\\ADMINI~1\\AppData\\Local\\Temp\\jieba.cache\n",
      "Loading model cost 0.640 seconds.\n",
      "Prefix dict has been built succesfully.\n"
     ]
    },
    {
     "name": "stdout",
     "output_type": "stream",
     "text": [
      "['张无忌', '张翠山', '谢逊', '周芷若', '赵敏', '说道', '武功', '教主', '殷素素', '明教', '少林', '张三丰', '灭绝师太', '无忌', '俞莲舟']\n"
     ]
    }
   ],
   "source": [
    "r = ays.extract_tags(s, topK=15, withWeight=False)\n",
    "print(r)"
   ]
  },
  {
   "cell_type": "markdown",
   "metadata": {},
   "source": [
    "### 2 textrank关键词提取"
   ]
  },
  {
   "cell_type": "code",
   "execution_count": 3,
   "metadata": {},
   "outputs": [
    {
     "name": "stdout",
     "output_type": "stream",
     "text": [
      "['说道', '只见', '教主', '少林', '便是', '弟子', '不知', '师父', '众人', '灭绝师太', '心想', '义父', '身子', '跟着', '右手']\n"
     ]
    }
   ],
   "source": [
    "r1 = ays.textrank(s, topK=15, withWeight=False)\n",
    "print(r1)"
   ]
  },
  {
   "cell_type": "code",
   "execution_count": null,
   "metadata": {},
   "outputs": [],
   "source": []
  }
 ],
 "metadata": {
  "kernelspec": {
   "display_name": "Python 3",
   "language": "python",
   "name": "python3"
  },
  "language_info": {
   "codemirror_mode": {
    "name": "ipython",
    "version": 3
   },
   "file_extension": ".py",
   "mimetype": "text/x-python",
   "name": "python",
   "nbconvert_exporter": "python",
   "pygments_lexer": "ipython3",
   "version": "3.7.3"
  }
 },
 "nbformat": 4,
 "nbformat_minor": 2
}
