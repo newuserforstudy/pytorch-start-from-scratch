{
 "cells": [
  {
   "cell_type": "markdown",
   "metadata": {},
   "source": [
    "### 自编码器的原理\n",
    "参考论文：《计算机学报》2019.1  自编码神经网络理论及应用综述  袁非牛  \n",
    "原理简介： 对称结构，分为编码部分和解码部分，目的是解码输出与实际输入一致。 "
   ]
  },
  {
   "cell_type": "code",
   "execution_count": 1,
   "metadata": {},
   "outputs": [],
   "source": [
    "import time\n",
    "import numpy as np\n",
    "import torch\n",
    "import torch.nn.functional as F\n",
    "from torchvision import datasets\n",
    "from torchvision import transforms\n",
    "from torch.utils.data import DataLoader"
   ]
  },
  {
   "cell_type": "code",
   "execution_count": 2,
   "metadata": {},
   "outputs": [],
   "source": [
    "# Hyperparameters\n",
    "random_seed = 123\n",
    "learning_rate = 0.001\n",
    "num_epochs = 5\n",
    "batch_size = 256\n",
    "\n",
    "# Architecture\n",
    "num_features = 784\n",
    "num_hidden_1 = 32"
   ]
  },
  {
   "cell_type": "code",
   "execution_count": 3,
   "metadata": {},
   "outputs": [
    {
     "name": "stdout",
     "output_type": "stream",
     "text": [
      "Image batch dimensions: torch.Size([256, 1, 28, 28])\n",
      "Image label dimensions: torch.Size([256])\n"
     ]
    }
   ],
   "source": [
    "train_dataset = datasets.MNIST(root='data', \n",
    "                               train=True, \n",
    "                               transform=transforms.ToTensor(),\n",
    "                               download=True)\n",
    "\n",
    "test_dataset = datasets.MNIST(root='data', \n",
    "                              train=False, \n",
    "                              transform=transforms.ToTensor())\n",
    "\n",
    "\n",
    "train_loader = DataLoader(dataset=train_dataset, \n",
    "                          batch_size=batch_size, \n",
    "                          shuffle=True)\n",
    "\n",
    "test_loader = DataLoader(dataset=test_dataset, \n",
    "                         batch_size=batch_size, \n",
    "                         shuffle=False)\n",
    "\n",
    "# Checking the dataset\n",
    "for images, labels in train_loader:  \n",
    "    print('Image batch dimensions:', images.shape)\n",
    "    print('Image label dimensions:', labels.shape)\n",
    "    break"
   ]
  },
  {
   "cell_type": "code",
   "execution_count": 4,
   "metadata": {},
   "outputs": [],
   "source": [
    "class Autoencoder(torch.nn.Module):\n",
    "\n",
    "    def __init__(self, num_features):\n",
    "        super(Autoencoder, self).__init__()\n",
    "        \n",
    "        ### ENCODER\n",
    "        self.linear_1 = torch.nn.Linear(num_features, num_hidden_1)\n",
    "       \n",
    "        ### DECODER\n",
    "        self.linear_2 = torch.nn.Linear(num_hidden_1, num_features)\n",
    "\n",
    "\n",
    "    def forward(self, x):\n",
    "        \n",
    "        ### ENCODER\n",
    "        encoded = self.linear_1(x)\n",
    "        encoded = F.leaky_relu(encoded)\n",
    "        \n",
    "        ### DECODER\n",
    "        logits = self.linear_2(encoded)\n",
    "        decoded = torch.sigmoid(logits)\n",
    "        \n",
    "        return decoded\n"
   ]
  },
  {
   "cell_type": "code",
   "execution_count": 5,
   "metadata": {},
   "outputs": [],
   "source": [
    "device = torch.device(\"cuda:0\" if torch.cuda.is_available() else \"cpu\")\n",
    "torch.manual_seed(random_seed)\n",
    "model = Autoencoder(num_features=num_features)\n",
    "model = model.to(device)\n",
    "\n",
    "optimizer = torch.optim.Adam(model.parameters(), lr=learning_rate)"
   ]
  },
  {
   "cell_type": "code",
   "execution_count": 6,
   "metadata": {},
   "outputs": [
    {
     "name": "stdout",
     "output_type": "stream",
     "text": [
      "Epoch: 001/005 | Batch 000/235 | Cost: 0.6983\n",
      "Epoch: 001/005 | Batch 050/235 | Cost: 0.2343\n",
      "Epoch: 001/005 | Batch 100/235 | Cost: 0.1864\n",
      "Epoch: 001/005 | Batch 150/235 | Cost: 0.1637\n",
      "Epoch: 001/005 | Batch 200/235 | Cost: 0.1480\n",
      "Time elapsed: 0.22 min\n",
      "Epoch: 002/005 | Batch 000/235 | Cost: 0.1423\n",
      "Epoch: 002/005 | Batch 050/235 | Cost: 0.1357\n",
      "Epoch: 002/005 | Batch 100/235 | Cost: 0.1277\n",
      "Epoch: 002/005 | Batch 150/235 | Cost: 0.1235\n",
      "Epoch: 002/005 | Batch 200/235 | Cost: 0.1208\n",
      "Time elapsed: 0.49 min\n",
      "Epoch: 003/005 | Batch 000/235 | Cost: 0.1187\n",
      "Epoch: 003/005 | Batch 050/235 | Cost: 0.1114\n",
      "Epoch: 003/005 | Batch 100/235 | Cost: 0.1095\n",
      "Epoch: 003/005 | Batch 150/235 | Cost: 0.1085\n",
      "Epoch: 003/005 | Batch 200/235 | Cost: 0.1079\n",
      "Time elapsed: 0.75 min\n",
      "Epoch: 004/005 | Batch 000/235 | Cost: 0.1038\n",
      "Epoch: 004/005 | Batch 050/235 | Cost: 0.1065\n",
      "Epoch: 004/005 | Batch 100/235 | Cost: 0.1035\n",
      "Epoch: 004/005 | Batch 150/235 | Cost: 0.1008\n",
      "Epoch: 004/005 | Batch 200/235 | Cost: 0.0975\n",
      "Time elapsed: 1.01 min\n",
      "Epoch: 005/005 | Batch 000/235 | Cost: 0.1012\n",
      "Epoch: 005/005 | Batch 050/235 | Cost: 0.1005\n",
      "Epoch: 005/005 | Batch 100/235 | Cost: 0.0994\n",
      "Epoch: 005/005 | Batch 150/235 | Cost: 0.0989\n",
      "Epoch: 005/005 | Batch 200/235 | Cost: 0.0981\n",
      "Time elapsed: 1.28 min\n",
      "Total Training Time: 1.28 min\n"
     ]
    }
   ],
   "source": [
    "start_time = time.time()\n",
    "for epoch in range(num_epochs):\n",
    "    for batch_idx, (features, targets) in enumerate(train_loader):\n",
    "        \n",
    "        # don't need labels, only the images (features)\n",
    "        features = features.view(-1, 28*28).to(device)\n",
    "            \n",
    "        ### FORWARD AND BACK PROP\n",
    "        decoded = model(features)\n",
    "        cost = F.binary_cross_entropy(decoded, features)\n",
    "        optimizer.zero_grad()\n",
    "        \n",
    "        cost.backward()\n",
    "        \n",
    "        ### UPDATE MODEL PARAMETERS\n",
    "        optimizer.step()\n",
    "        \n",
    "        ### LOGGING\n",
    "        if not batch_idx % 50:\n",
    "            print ('Epoch: %03d/%03d | Batch %03d/%03d | Cost: %.4f' \n",
    "                   %(epoch+1, num_epochs, batch_idx, \n",
    "                     len(train_loader), cost))\n",
    "            \n",
    "    print('Time elapsed: %.2f min' % ((time.time() - start_time)/60))\n",
    "    \n",
    "print('Total Training Time: %.2f min' % ((time.time() - start_time)/60))"
   ]
  },
  {
   "cell_type": "code",
   "execution_count": 7,
   "metadata": {},
   "outputs": [
    {
     "data": {
      "image/png": "[encoded data removed]",
      "text/plain": [
       "<Figure size 1440x180 with 30 Axes>"
      ]
     },
     "metadata": {
      "needs_background": "light"
     },
     "output_type": "display_data"
    }
   ],
   "source": [
    "%matplotlib inline\n",
    "import matplotlib.pyplot as plt\n",
    "\n",
    "##########################\n",
    "### VISUALIZATION\n",
    "##########################\n",
    "\n",
    "n_images = 15\n",
    "image_width = 28\n",
    "\n",
    "fig, axes = plt.subplots(nrows=2, ncols=n_images, \n",
    "                         sharex=True, sharey=True, figsize=(20, 2.5))\n",
    "orig_images = features[:n_images]\n",
    "decoded_images = decoded[:n_images]\n",
    "\n",
    "for i in range(n_images):\n",
    "    for ax, img in zip(axes, [orig_images, decoded_images]):\n",
    "        curr_img = img[i].detach().to(torch.device('cpu'))\n",
    "        ax[i].imshow(curr_img.view((image_width, image_width)), cmap='binary')"
   ]
  },
  {
   "cell_type": "code",
   "execution_count": null,
   "metadata": {},
   "outputs": [],
   "source": []
  }
 ],
 "metadata": {
  "kernelspec": {
   "display_name": "Python 3",
   "language": "python",
   "name": "python3"
  },
  "language_info": {
   "codemirror_mode": {
    "name": "ipython",
    "version": 3
   },
   "file_extension": ".py",
   "mimetype": "text/x-python",
   "name": "python",
   "nbconvert_exporter": "python",
   "pygments_lexer": "ipython3",
   "version": "3.7.3"
  }
 },
 "nbformat": 4,
 "nbformat_minor": 2
}
