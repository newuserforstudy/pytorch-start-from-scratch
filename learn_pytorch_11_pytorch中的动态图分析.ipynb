{
 "cells": [
  {
   "cell_type": "markdown",
   "metadata": {},
   "source": [
    "### 1 pytorch的2大优点  \n",
    "(1) 自动微分  \n",
    "(2) 动态计算图机制   "
   ]
  },
  {
   "cell_type": "markdown",
   "metadata": {},
   "source": [
    "### 2 计算图 "
   ]
  },
  {
   "cell_type": "code",
   "execution_count": 5,
   "metadata": {},
   "outputs": [
    {
     "data": {
      "text/plain": [
       "-2.4435831956899294"
      ]
     },
     "execution_count": 5,
     "metadata": {},
     "output_type": "execute_result"
    }
   ],
   "source": [
    "import numpy as np\n",
    "np.random.seed(1)\n",
    "\n",
    "r,c = 3,4\n",
    "x=np.random.randn(r,c)\n",
    "y=np.random.randn(r,c)\n",
    "z=np.random.randn(r,c)\n",
    "\n",
    "a=x*y\n",
    "b=a+z\n",
    "c=np.sum(b)\n",
    "c"
   ]
  },
  {
   "cell_type": "markdown",
   "metadata": {},
   "source": [
    "![jupyter](./computational_graph1.png)"
   ]
  },
  {
   "cell_type": "markdown",
   "metadata": {},
   "source": [
    "### 3 动态计算图与静态计算图对比 \n",
    "静态计算图：先定义再运行，define and run ,一次定义多次运行,一旦创建不能修改，且使用固定语法，不易调试。  \n",
    "动态计算图：在运行的过程中被定义，在运行的时候构建，define by run,可以多次构建多次运行，每次运行新建计算图，与python语法一致方便调试。 \n",
    "\n",
    "使用静态计算图的主要深度学习框架：tensoflow1.x版本、keras、caffe2   \n",
    "使用动态计算图的主要深度学习框架：pytorch、tensoflow2.x版本、chanier、  \n",
    "\n",
    "动态计算图是趋势，主要选择pytorch和tensorflow2.x"
   ]
  },
  {
   "cell_type": "markdown",
   "metadata": {},
   "source": [
    "![jupyter](./static_vs_dynamic.png)"
   ]
  },
  {
   "cell_type": "markdown",
   "metadata": {},
   "source": [
    "### 4 动态计算图的擅长的应用场景\n",
    "(1)循环迭代计算  \n",
    "(2)循环神经网络和递归神经网络   \n",
    "(3)模块化网络   "
   ]
  },
  {
   "cell_type": "markdown",
   "metadata": {},
   "source": [
    "说明：参考图选自Fei-Fei Li课件lecture8"
   ]
  },
  {
   "cell_type": "code",
   "execution_count": null,
   "metadata": {},
   "outputs": [],
   "source": []
  }
 ],
 "metadata": {
  "kernelspec": {
   "display_name": "Python 3",
   "language": "python",
   "name": "python3"
  },
  "language_info": {
   "codemirror_mode": {
    "name": "ipython",
    "version": 3
   },
   "file_extension": ".py",
   "mimetype": "text/x-python",
   "name": "python",
   "nbconvert_exporter": "python",
   "pygments_lexer": "ipython3",
   "version": "3.7.3"
  }
 },
 "nbformat": 4,
 "nbformat_minor": 2
}
