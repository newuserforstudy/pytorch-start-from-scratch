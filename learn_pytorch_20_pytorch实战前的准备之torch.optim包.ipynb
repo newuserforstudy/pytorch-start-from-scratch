{
 "cells": [
  {
   "cell_type": "markdown",
   "metadata": {},
   "source": [
    "### 1 torch.optim简介 \n",
    "\n",
    "一个实现各种优化算法的包  \n",
    "官网：https://pytorch.org/docs/stable/optim.html   \n",
    "中文参考：https://pytorch.apachecn.org/docs/1.2/optim.html    "
   ]
  },
  {
   "cell_type": "markdown",
   "metadata": {},
   "source": [
    "### 2 优化器的基类 Optimizer\n",
    "from torch.optim.optimizer import Optimizer  \n",
    "Optimizer类源码：https://pytorch.org/docs/stable/_modules/torch/optim/optimizer.html#Optimizer\n",
    "    "
   ]
  },
  {
   "cell_type": "markdown",
   "metadata": {},
   "source": [
    "### 3 优化器介绍\n",
    "\n",
    "from torch.optim import sgd, adam, adadelta, adagrad   \n",
    "from torch.optim import adamw, asgd, lbfgs  \n",
    "from torch.optim import rmsprop, rprop, sparse_adam  \n",
    " \n",
    "optimizer = sgd.SGD(model.parameters(), lr=0.001)  \n",
    "optimizer = adam.Adam(model.parameters(), lr=0.001)   \n",
    "optimizer = adadelta.Adadelta(model.parameters(), lr=0.001)  \n",
    "optimizer = adagrad.Adagrad(model.parameters(), lr=0.001)   \n",
    "optimizer = adamw.AdamW(model.parameters(), lr=0.001)  \n",
    "optimizer = asgd.ASGD(model.parameters(), lr=0.001)   \n",
    "optimizer = lbfgs.LBFGS(model.parameters(), lr=0.001)  \n",
    "optimizer = rmsprop.RMSprop(model.parameters(), lr=0.001)  \n",
    "optimizer = rprop.Rprop(model.parameters(), lr=0.001)  \n",
    "optimizer = sparse_adam.SparseAdam(model.parameters(), lr=0.001)  \n"
   ]
  },
  {
   "cell_type": "markdown",
   "metadata": {},
   "source": [
    "### 4 优化器学习率调整\n",
    "from torch.optim import lr_scheduler\n",
    "\n",
    "class torch.optim.lr_scheduler.LambdaLR(optimizer, lr_lambda, last_epoch=-1)\n",
    "class torch.optim.lr_scheduler.StepLR(optimizer, step_size, gamma=0.1, last_epoch=-1)\n",
    "class torch.optim.lr_scheduler.MultiStepLR(optimizer, milestones, gamma=0.1, last_epoch=-1)\n",
    "class torch.optim.lr_scheduler.CosineAnnealingLR(optimizer, T_max, eta_min=0, last_epoch=-1)\n",
    "class torch.optim.lr_scheduler.ReduceLROnPlateau(optimizer, mode='min', factor=0.1, patience=10, verbose=False, threshold=0.0001, threshold_mode='rel', cooldown=0, min_lr=0, eps=1e-08)\n"
   ]
  }
 ],
 "metadata": {
  "kernelspec": {
   "display_name": "Python 3",
   "language": "python",
   "name": "python3"
  },
  "language_info": {
   "codemirror_mode": {
    "name": "ipython",
    "version": 3
   },
   "file_extension": ".py",
   "mimetype": "text/x-python",
   "name": "python",
   "nbconvert_exporter": "python",
   "pygments_lexer": "ipython3",
   "version": "3.7.3"
  }
 },
 "nbformat": 4,
 "nbformat_minor": 2
}
