{
 "cells": [
  {
   "cell_type": "markdown",
   "metadata": {},
   "source": [
    "### 1 什么是词嵌入word embedding？  \n",
    "词嵌入方法/算法从文本语料库学习实值向量表示。 解决：词怎么用向量表示的问题！  \n",
    "词嵌入的2种表示方法：  \n",
    "(1) Google的word2vec     \n",
    "(2) Standford的Glove     \n",
    "注意：词嵌入需要大量的文本！！！  "
   ]
  },
  {
   "cell_type": "markdown",
   "metadata": {},
   "source": [
    "### 2 gensim中的word2vec  "
   ]
  },
  {
   "cell_type": "code",
   "execution_count": 2,
   "metadata": {},
   "outputs": [],
   "source": [
    "from gensim.models import Word2Vec   \n",
    "sentences = [\n",
    "   ['this', 'is', 'gensim', 'tutorial', 'for', 'free'],\n",
    "   ['this', 'is', 'the', 'tutorials' 'point', 'website'],\n",
    "   ['you', 'can', 'read', 'technical','tutorials', 'for','free'],\n",
    "   ['we', 'are', 'implementing','word2vec'],\n",
    "   ['learn', 'full', 'gensim', 'tutorial']\n",
    "]\n",
    "\n",
    "model = Word2Vec(sentences, min_count=1)  "
   ]
  },
  {
   "cell_type": "code",
   "execution_count": 3,
   "metadata": {},
   "outputs": [
    {
     "name": "stdout",
     "output_type": "stream",
     "text": [
      "Word2Vec(vocab=20, size=100, alpha=0.025)\n"
     ]
    }
   ],
   "source": [
    "print(model)"
   ]
  },
  {
   "cell_type": "code",
   "execution_count": 4,
   "metadata": {},
   "outputs": [
    {
     "name": "stdout",
     "output_type": "stream",
     "text": [
      "['this', 'is', 'gensim', 'tutorial', 'for', 'free', 'the', 'tutorialspoint', 'website', 'you', 'can', 'read', 'technical', 'tutorials', 'we', 'are', 'implementing', 'word2vec', 'learn', 'full']\n"
     ]
    }
   ],
   "source": [
    "words = list(model.wv.vocab)\n",
    "print(words)"
   ]
  },
  {
   "cell_type": "code",
   "execution_count": 5,
   "metadata": {},
   "outputs": [
    {
     "name": "stdout",
     "output_type": "stream",
     "text": [
      "[ 0.00306002  0.00075905 -0.00141364 -0.00499561 -0.00190462 -0.00214869\n",
      " -0.00079073 -0.00427876  0.00371061 -0.00250087  0.00168984 -0.00396709\n",
      " -0.00300621  0.00250296 -0.00408328  0.00420155  0.0036866   0.00252063\n",
      " -0.00143976 -0.00496841 -0.00071836 -0.003299   -0.00455939  0.00363592\n",
      " -0.00466755  0.00438139  0.00040535  0.00187105  0.00360228 -0.00232076\n",
      "  0.00149902  0.00156562 -0.00262082  0.00023976  0.00236297 -0.00351344\n",
      " -0.00054606  0.0024303   0.00131988  0.00307537  0.00013842 -0.00122192\n",
      " -0.00408617 -0.00190329  0.00095237 -0.003611   -0.00437814  0.0006808\n",
      " -0.00376589  0.00326931 -0.00167317 -0.00089797 -0.00234703 -0.00121301\n",
      " -0.00012303  0.00275227  0.00154004 -0.00129077  0.00462849  0.00449333\n",
      "  0.00297474  0.00379989  0.0007763  -0.00089003  0.00415985  0.00434766\n",
      "  0.00182243  0.00347096 -0.00138332 -0.00220014 -0.00214198 -0.00071778\n",
      " -0.00036296  0.00434354  0.00349193 -0.00031091  0.00252123 -0.00375613\n",
      "  0.00021581  0.00475968  0.00097439 -0.0019076  -0.00225459 -0.00197006\n",
      " -0.00132931 -0.00177294  0.0041848   0.0019552  -0.00483219  0.0024246\n",
      "  0.00079086  0.00370788  0.00301908 -0.00141492 -0.00481021 -0.00375668\n",
      " -0.00160457 -0.00301417 -0.00151121  0.00053291]\n"
     ]
    },
    {
     "name": "stderr",
     "output_type": "stream",
     "text": [
      "C:\\Users\\Administrator\\AppData\\Roaming\\Python\\Python37\\site-packages\\ipykernel_launcher.py:1: DeprecationWarning: Call to deprecated `__getitem__` (Method will be removed in 4.0.0, use self.wv.__getitem__() instead).\n",
      "  \"\"\"Entry point for launching an IPython kernel.\n"
     ]
    }
   ],
   "source": [
    "print(model['tutorial'])"
   ]
  },
  {
   "cell_type": "markdown",
   "metadata": {},
   "source": [
    "model.save('model.bin')  \n",
    "new_model = Word2Vec.load('model.bin')   "
   ]
  },
  {
   "cell_type": "code",
   "execution_count": 7,
   "metadata": {},
   "outputs": [
    {
     "name": "stderr",
     "output_type": "stream",
     "text": [
      "C:\\Users\\Administrator\\AppData\\Roaming\\Python\\Python37\\site-packages\\ipykernel_launcher.py:13: DeprecationWarning: Call to deprecated `__getitem__` (Method will be removed in 4.0.0, use self.wv.__getitem__() instead).\n",
      "  del sys.path[0]\n"
     ]
    },
    {
     "data": {
      "image/png": "[encoded data removed]",
      "text/plain": [
       "<Figure size 432x288 with 1 Axes>"
      ]
     },
     "metadata": {
      "needs_background": "light"
     },
     "output_type": "display_data"
    }
   ],
   "source": [
    "from gensim.models import Word2Vec\n",
    "from sklearn.decomposition import PCA\n",
    "from matplotlib import pyplot\n",
    "%matplotlib inline\n",
    "sentences = [\n",
    "   ['this', 'is', 'gensim', 'tutorial', 'for', 'free'],\n",
    "\t['this', 'is', 'the', 'tutorials' 'point', 'website'],\n",
    "\t['you', 'can', 'read', 'technical','tutorials', 'for','free'],\n",
    "\t['we', 'are', 'implementing','word2vec'],\n",
    "\t['learn', 'full', 'gensim', 'tutorial']\n",
    "]\n",
    "model = Word2Vec(sentences, min_count=1)\n",
    "X = model[model.wv.vocab]\n",
    "pca = PCA(n_components=2)\n",
    "result = pca.fit_transform(X)\n",
    "pyplot.scatter(result[:, 0], result[:, 1])\n",
    "words = list(model.wv.vocab)\n",
    "for i, word in enumerate(words):\n",
    "   pyplot.annotate(word, xy=(result[i, 0], result[i, 1]))\n",
    "pyplot.show()"
   ]
  },
  {
   "cell_type": "code",
   "execution_count": null,
   "metadata": {},
   "outputs": [],
   "source": []
  }
 ],
 "metadata": {
  "kernelspec": {
   "display_name": "Python 3",
   "language": "python",
   "name": "python3"
  },
  "language_info": {
   "codemirror_mode": {
    "name": "ipython",
    "version": 3
   },
   "file_extension": ".py",
   "mimetype": "text/x-python",
   "name": "python",
   "nbconvert_exporter": "python",
   "pygments_lexer": "ipython3",
   "version": "3.7.3"
  }
 },
 "nbformat": 4,
 "nbformat_minor": 2
}
