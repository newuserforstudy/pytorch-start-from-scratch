{
 "cells": [
  {
   "cell_type": "markdown",
   "metadata": {},
   "source": [
    "## pytorch中创建张量的函数  \n",
    "更多创建张量的方法参考：https://pytorch.org/docs/stable/tensors.html"
   ]
  },
  {
   "cell_type": "code",
   "execution_count": 21,
   "metadata": {},
   "outputs": [],
   "source": [
    "import torch "
   ]
  },
  {
   "cell_type": "markdown",
   "metadata": {},
   "source": [
    "### 1 创建张量的方法举例 "
   ]
  },
  {
   "cell_type": "code",
   "execution_count": 22,
   "metadata": {},
   "outputs": [
    {
     "name": "stdout",
     "output_type": "stream",
     "text": [
      "tensor([[0., 0., 0.],\n",
      "        [0., 0., 0.],\n",
      "        [0., 0., 0.]])\n"
     ]
    }
   ],
   "source": [
    "# 1 创建全0张量\n",
    "x_zeros = torch.zeros((3, 3))\n",
    "print(x_zeros)"
   ]
  },
  {
   "cell_type": "code",
   "execution_count": 23,
   "metadata": {},
   "outputs": [
    {
     "name": "stdout",
     "output_type": "stream",
     "text": [
      "tensor([[1., 1., 1.],\n",
      "        [1., 1., 1.],\n",
      "        [1., 1., 1.]])\n"
     ]
    }
   ],
   "source": [
    "# 2 创建全1张量\n",
    "x_ones = torch.ones((3, 3))\n",
    "print(x_ones)"
   ]
  },
  {
   "cell_type": "code",
   "execution_count": 24,
   "metadata": {},
   "outputs": [
    {
     "name": "stdout",
     "output_type": "stream",
     "text": [
      "tensor([[0.8457, 0.9946, 0.0546],\n",
      "        [0.4997, 0.3072, 0.3124],\n",
      "        [0.7492, 0.0874, 0.6146]])\n",
      "tensor([[0.1502, 0.7328, 0.7626],\n",
      "        [0.2934, 0.4336, 0.7766],\n",
      "        [0.2727, 0.9342, 0.3673]])\n",
      "tensor([[0.1938, 0.7106, 0.4193],\n",
      "        [0.0067, 0.3246, 0.5228],\n",
      "        [0.0732, 0.7138, 0.3520]])\n",
      "tensor([[0.1514, 0.4334, 0.2650],\n",
      "        [0.5948, 0.7525, 0.2161],\n",
      "        [0.1625, 0.4575, 0.5656]])\n",
      "tensor([[0.2582, 0.2364, 0.1756],\n",
      "        [0.2396, 0.9150, 0.9401],\n",
      "        [0.1849, 0.6766, 0.9486]])\n"
     ]
    }
   ],
   "source": [
    "# 3 随机创建张量-均匀分布[0,1)\n",
    "for i in range(5):\n",
    "    x_rand = torch.rand((3, 3))\n",
    "    print(x_rand)"
   ]
  },
  {
   "cell_type": "code",
   "execution_count": 25,
   "metadata": {},
   "outputs": [
    {
     "name": "stdout",
     "output_type": "stream",
     "text": [
      "tensor([[-0.0418, -0.1411, -0.8181],\n",
      "        [-0.6138, -1.1927,  0.2212],\n",
      "        [ 0.0518,  0.3459,  1.2211]])\n",
      "tensor([[-0.3250, -1.6226,  1.7400],\n",
      "        [ 1.7518,  0.1909, -0.0632],\n",
      "        [ 1.2392, -0.0207,  2.0002]])\n",
      "tensor([[-1.6730,  0.7898, -0.7678],\n",
      "        [-1.5474,  0.0367, -1.2842],\n",
      "        [-1.1684, -0.5605, -0.2899]])\n",
      "tensor([[ 0.3534, -1.5259, -0.6579],\n",
      "        [ 1.2599, -0.5789, -0.1751],\n",
      "        [ 0.4161, -0.3161, -1.3250]])\n",
      "tensor([[-0.7926, -0.8082, -0.7152],\n",
      "        [ 1.6350,  0.3823, -1.2431],\n",
      "        [ 0.1808, -0.9741,  0.1143]])\n"
     ]
    }
   ],
   "source": [
    "# 4 随机创建张量-标准正态分布\n",
    "for i in range(5):\n",
    "    x_randn = torch.randn((3, 3))\n",
    "    print(x_randn)"
   ]
  },
  {
   "cell_type": "code",
   "execution_count": 26,
   "metadata": {},
   "outputs": [
    {
     "name": "stdout",
     "output_type": "stream",
     "text": [
      "tensor([[9, 9, 2],\n",
      "        [3, 0, 7],\n",
      "        [7, 2, 4]])\n",
      "tensor([[1, 1, 7],\n",
      "        [7, 1, 3],\n",
      "        [1, 2, 0]])\n",
      "tensor([[6, 0, 0],\n",
      "        [8, 5, 8],\n",
      "        [2, 8, 0]])\n",
      "tensor([[9, 3, 3],\n",
      "        [1, 7, 7],\n",
      "        [4, 4, 2]])\n",
      "tensor([[1, 4, 3],\n",
      "        [7, 0, 7],\n",
      "        [4, 0, 6]])\n"
     ]
    }
   ],
   "source": [
    "# 5 随机创建张量-均匀分布 指定范围的整数\n",
    "for i in range(5):\n",
    "    x_randi = torch.randint(10, (3, 3))\n",
    "    print(x_randi)"
   ]
  },
  {
   "cell_type": "markdown",
   "metadata": {},
   "source": [
    "### 2 Tensor类型与numpy数据类型的转换\n",
    "numpy的更多内容参考：https://numpy.org/devdocs/user/quickstart.html  "
   ]
  },
  {
   "cell_type": "code",
   "execution_count": 27,
   "metadata": {},
   "outputs": [
    {
     "name": "stdout",
     "output_type": "stream",
     "text": [
      "[[1 2]\n",
      " [3 4]]\n",
      "tensor([[1, 2],\n",
      "        [3, 4]], dtype=torch.int32)\n"
     ]
    }
   ],
   "source": [
    "# numpy 转tensor\n",
    "import numpy as np \n",
    "x_np = np.array([[1, 2], [3, 4]])\n",
    "x_tensor = torch.from_numpy(x_np)\n",
    "print(x_np)\n",
    "print(x_tensor)"
   ]
  },
  {
   "cell_type": "code",
   "execution_count": 28,
   "metadata": {},
   "outputs": [
    {
     "name": "stdout",
     "output_type": "stream",
     "text": [
      "[[1 2]\n",
      " [3 4]]\n"
     ]
    }
   ],
   "source": [
    "# tensor转numpy \n",
    "x_np_ = x_tensor.numpy()\n",
    "print(x_np_)"
   ]
  },
  {
   "cell_type": "code",
   "execution_count": null,
   "metadata": {},
   "outputs": [],
   "source": []
  }
 ],
 "metadata": {
  "kernelspec": {
   "display_name": "Python 3",
   "language": "python",
   "name": "python3"
  },
  "language_info": {
   "codemirror_mode": {
    "name": "ipython",
    "version": 3
   },
   "file_extension": ".py",
   "mimetype": "text/x-python",
   "name": "python",
   "nbconvert_exporter": "python",
   "pygments_lexer": "ipython3",
   "version": "3.7.3"
  }
 },
 "nbformat": 4,
 "nbformat_minor": 2
}
