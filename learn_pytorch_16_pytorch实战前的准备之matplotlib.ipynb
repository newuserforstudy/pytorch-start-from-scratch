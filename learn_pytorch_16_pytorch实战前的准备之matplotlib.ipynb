{
 "cells": [
  {
   "cell_type": "markdown",
   "metadata": {},
   "source": [
    "### 1 什么是matplot？\n",
    "  \n",
    "使用python画图的工具包，即python数据可视化工具包。  \n",
    "官网：https://matplotlib.org/ "
   ]
  },
  {
   "cell_type": "markdown",
   "metadata": {},
   "source": [
    "### 2 matplotlib的安装  \n",
    "官网安装：pip install matplotlib  \n",
    "镜像安装：pip install -i https://pypi.tuna.tsinghua.edu.cn/simple matplotlib "
   ]
  },
  {
   "cell_type": "code",
   "execution_count": 2,
   "metadata": {},
   "outputs": [],
   "source": [
    "import matplotlib"
   ]
  },
  {
   "cell_type": "markdown",
   "metadata": {},
   "source": [
    "### 3 matplotlib的使用 \n",
    "官网教程：https://matplotlib.org/tutorials/index.html    \n",
    "实例可以参考：https://www.kesci.com/home/project/5de9f0a0953ca8002c95d2a9    "
   ]
  },
  {
   "cell_type": "code",
   "execution_count": 4,
   "metadata": {},
   "outputs": [],
   "source": [
    "import matplotlib.pyplot as plt "
   ]
  },
  {
   "cell_type": "markdown",
   "metadata": {},
   "source": [
    "### 4 基于matplotlib的画图工具包  \n",
    "seaborn官网： https://seaborn.pydata.org/       \n",
    "holoviews官网: https://holoviews.org/      \n",
    "ggplot官网:http://ggplot.yhathq.com/   \n",
    "\n",
    "basemap官网:https://matplotlib.org/basemap/   \n",
    "cartopy官网:https://scitools.org.uk/cartopy/docs/latest/  "
   ]
  },
  {
   "cell_type": "code",
   "execution_count": null,
   "metadata": {},
   "outputs": [],
   "source": []
  }
 ],
 "metadata": {
  "kernelspec": {
   "display_name": "Python 3",
   "language": "python",
   "name": "python3"
  },
  "language_info": {
   "codemirror_mode": {
    "name": "ipython",
    "version": 3
   },
   "file_extension": ".py",
   "mimetype": "text/x-python",
   "name": "python",
   "nbconvert_exporter": "python",
   "pygments_lexer": "ipython3",
   "version": "3.7.3"
  }
 },
 "nbformat": 4,
 "nbformat_minor": 2
}
